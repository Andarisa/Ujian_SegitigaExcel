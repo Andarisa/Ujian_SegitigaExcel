{
 "cells": [
  {
   "cell_type": "code",
   "execution_count": null,
   "metadata": {},
   "outputs": [],
   "source": [
    "def segitigakata(kata):\n",
    "    \n",
    "    import xlsxwriter\n",
    "\n",
    "    book = xlsxwriter.Workbook('Segita_Excel.xlsx')\n",
    "    sheet = book.add_worksheet('Segitiga')\n",
    "\n",
    "    z=[]\n",
    "    kata = kata.replace(' ','')\n",
    "    # Pola Segitiga\n",
    "    pola = list(map(lambda t : t * (t+1)/2, range(len(kata))))\n",
    "    pola = list(map(int,pola))\n",
    "\n",
    "    if len(kata) not in pola:\n",
    "        print('Mohon maaf, jumlah karakter tidak memenuhi syarat membentuk pola')\n",
    "    else:\n",
    "        jumlahBaris = pola.index(len(kata))\n",
    "        for i in range (jumlahBaris):\n",
    "            for j in range(pola[i], pola[i+1]):     \n",
    "                z.append(kata[j])\n",
    "            z.append(\"\\n\")\n",
    "        \n",
    "  \n",
    "    row = 0\n",
    "    col = 0\n",
    "\n",
    "    for item in z:\n",
    "        if item == '\\n':\n",
    "            col = 0\n",
    "            row+=1\n",
    "            continue\n",
    "        \n",
    "        sheet.write(row,col,item)\n",
    "        col+=1\n",
    "\n",
    "    \n",
    "    book.close()\n",
    "\n",
    "segitigakata('purwadhika')"
   ]
  }
 ],
 "metadata": {
  "kernelspec": {
   "display_name": "Python 3",
   "language": "python",
   "name": "python3"
  },
  "language_info": {
   "codemirror_mode": {
    "name": "ipython",
    "version": 3
   },
   "file_extension": ".py",
   "mimetype": "text/x-python",
   "name": "python",
   "nbconvert_exporter": "python",
   "pygments_lexer": "ipython3",
   "version": "3.8.1"
  }
 },
 "nbformat": 4,
 "nbformat_minor": 4
}
